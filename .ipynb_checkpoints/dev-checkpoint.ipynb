{
 "cells": [
  {
   "cell_type": "code",
   "execution_count": 3,
   "id": "981e3646-c94f-4664-8a5f-d43a10cfecf2",
   "metadata": {},
   "outputs": [],
   "source": [
    "import torch\n",
    "import argparse\n",
    "import numpy as np\n",
    "from pathlib import Path\n",
    "\n",
    "from src.dataset import ParityPredictionDataset, HiddenParityPrediction\n",
    "from src.model import TinyModel\n",
    "from src.train import train_model\n",
    "from src.plot import (\n",
    "    plot_losses,\n",
    "    plot_accuracies,\n",
    "    plot_line_with_label,\n",
    "    plot_list_of_lines_and_labels,\n",
    ")\n",
    "from src.common import get_accuracy_on_dataset"
   ]
  },
  {
   "cell_type": "code",
   "execution_count": null,
   "id": "68cd4195-58c6-425b-ad05-1dda48211645",
   "metadata": {},
   "outputs": [],
   "source": []
  }
 ],
 "metadata": {
  "kernelspec": {
   "display_name": "Python 3",
   "language": "python",
   "name": "python3"
  },
  "language_info": {
   "codemirror_mode": {
    "name": "ipython",
    "version": 3
   },
   "file_extension": ".py",
   "mimetype": "text/x-python",
   "name": "python",
   "nbconvert_exporter": "python",
   "pygments_lexer": "ipython3",
   "version": "3.8.10"
  }
 },
 "nbformat": 4,
 "nbformat_minor": 5
}
